{
 "cells": [
  {
   "cell_type": "markdown",
   "metadata": {},
   "source": [
    "# Inference with Discrete Latent Variables II\n",
    "\n",
    "This tutorial covers advanced topics in discrete latent variabes. We recommend starting with the [Tensor Shapes Tutorial](http://pyro.ai/examples/tensor_shapes.html) and [Intro to Discrete Latent Variables](http://pyro.ai/examples/enumeration.html).\n",
    "\n",
    "#### Summary\n",
    "\n",
    "- Use [TraceEnum_ELBO](http://docs.pyro.ai/en/dev/inference_algos.html#pyro.infer.traceenum_elbo.TraceEnum_ELBO), [HMC](), and [NUTS]() for flexible training.\n",
    "- Use [infer_discrete]() for flexible prediction (sampling and MAP / Viterbi).\n",
    "- Use plated [einsum]() to train and predict in CRF and MRF models.\n",
    "- Use the [DiscreteHMM]() distribution for fast Baum-Welch training of HMM models.\n",
    "- Use the [SpanningTree]() distribution to for inference in latent tree models.\n",
    "- Use [pyro.contrib.tracking.assignment]() for approximate probabilistic assignment and matching.\n",
    "- Use [funsor]() to perform inference in more complex models."
   ]
  },
  {
   "cell_type": "markdown",
   "metadata": {},
   "source": [
    "## Overview\n",
    "\n",
    "Pyro has many independent pieces of machinery to handle discrete random variables."
   ]
  },
  {
   "cell_type": "markdown",
   "metadata": {},
   "source": [
    "## SVI and MCMC"
   ]
  },
  {
   "cell_type": "markdown",
   "metadata": {},
   "source": [
    "## Prediction using `infer_discrete`"
   ]
  },
  {
   "cell_type": "markdown",
   "metadata": {},
   "source": [
    "## CRFs and MRFs using `einsum`"
   ]
  },
  {
   "cell_type": "markdown",
   "metadata": {},
   "source": [
    "## Discrete distributions"
   ]
  },
  {
   "cell_type": "code",
   "execution_count": null,
   "metadata": {},
   "outputs": [],
   "source": []
  }
 ],
 "metadata": {
  "kernelspec": {
   "display_name": "Python 3",
   "language": "python",
   "name": "python3"
  },
  "language_info": {
   "codemirror_mode": {
    "name": "ipython",
    "version": 3
   },
   "file_extension": ".py",
   "mimetype": "text/x-python",
   "name": "python",
   "nbconvert_exporter": "python",
   "pygments_lexer": "ipython3",
   "version": "3.7.2"
  }
 },
 "nbformat": 4,
 "nbformat_minor": 2
}
