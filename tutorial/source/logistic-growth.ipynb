{
 "cells": [
  {
   "cell_type": "markdown",
   "metadata": {},
   "source": [
    "# Logistic growth models of SARS-CoV-2 strain ratios\n",
    "\n",
    "This notebook explores multivariate logistic growth models, with applications to determining the relative proportions of SARS-CoV-2 strains over time.\n",
    "\n",
    "#### Table of contents\n",
    "\n",
    "* [Overview](#Overview)\n",
    "* [Loading data](#Loading-data)\n",
    "* [A First Model](#A-first-model)\n",
    "* [Defining a regional model](#Defining-a-regional-model)\n",
    "* [Defining an alternative regional model](#Defining-an-alternative-regional-model)"
   ]
  },
  {
   "cell_type": "markdown",
   "metadata": {},
   "source": [
    "## Overview <a name=\"Overview\" />"
   ]
  },
  {
   "cell_type": "code",
   "execution_count": 1,
   "metadata": {},
   "outputs": [
    {
     "name": "stdout",
     "output_type": "stream",
     "text": [
      "Using CPU\n"
     ]
    }
   ],
   "source": [
    "import os\n",
    "from functools import partial\n",
    "\n",
    "import numpy as np\n",
    "import torch\n",
    "\n",
    "import pyro\n",
    "import pyro.distributions as dist\n",
    "from pyro.distributions import constraints\n",
    "from pyro.infer import SVI, Trace_ELBO\n",
    "from pyro.infer.autoguide import AutoNormal\n",
    "from pyro.optim import ClippedAdam\n",
    "\n",
    "import matplotlib.pyplot as plt\n",
    "\n",
    "if torch.cuda.is_available():\n",
    "    print(\"Using GPU\")\n",
    "    torch.set_default_tensor_type(\"torch.cuda.FloatTensor\")\n",
    "else:\n",
    "    print(\"Using CPU\")\n",
    "    \n",
    "smoke_test = ('CI' in os.environ)"
   ]
  },
  {
   "cell_type": "markdown",
   "metadata": {},
   "source": [
    "## Loading data <a name=\"Loading-data\" />\n",
    "\n",
    "Our data inputs consist of a few million genetically sampled SARS-CoV-2 viruses, clustered into [PANGO lineages](https://cov-lineages.org), and aggregated into a few hundred regions globally and into 28-day time bins. Preprocessing was performed by Nextstrain's [ncov](https://docs.nextstrain.org/projects/ncov/en/latest/reference/remote_inputs.html) tool, and aggregation was performed by the Broad Institute's [pyro-cov](https://github.com/broadinstitute/pyro-cov/blob/master/scripts/preprocess_nextstrain.py) tool."
   ]
  },
  {
   "cell_type": "code",
   "execution_count": 2,
   "metadata": {},
   "outputs": [
    {
     "name": "stdout",
     "output_type": "stream",
     "text": [
      "counts: Tensor of shape (27, 202, 1316) on cpu\n",
      "features: Tensor of shape (1316, 2634) on cpu\n",
      "lineages: list of length 1316\n",
      "locations: list of length 202\n",
      "mutations: list of length 2634\n",
      "sparse_counts.index: Tensor of shape (3, 57129) on cpu\n",
      "sparse_counts.total: Tensor of shape (27, 202) on cpu\n",
      "sparse_counts.value: Tensor of shape (57129,) on cpu\n",
      "start_date: datetime\n",
      "time_step_days: int\n"
     ]
    }
   ],
   "source": [
    "from pyro.contrib.examples.nextstrain import load_nextstrain_counts\n",
    "dataset = load_nextstrain_counts()\n",
    "\n",
    "def summarize(x, name=\"\"):\n",
    "    if isinstance(x, dict):\n",
    "        for k, v in sorted(x.items()):\n",
    "            summarize(v, name + \".\" + k if name else k)\n",
    "    elif isinstance(x, torch.Tensor):\n",
    "        print(f\"{name}: {type(x).__name__} of shape {tuple(x.shape)} on {x.device}\")\n",
    "    elif isinstance(x, list):\n",
    "        print(f\"{name}: {type(x).__name__} of length {len(x)}\")\n",
    "    else:\n",
    "        print(f\"{name}: {type(x).__name__}\")\n",
    "summarize(dataset)"
   ]
  },
  {
   "cell_type": "markdown",
   "metadata": {},
   "source": [
    "The main two pieces of data are a counts tensor and a feature matrix. The `dataset[\"counts\"]` tensor has shape (T,P,S) where `T` is the number of time bins, `P` is the number of places or locations, and `S` is the number of strains or PANGO lineages, and `dataset[\"counts\"][t,p,s]` is the number of samples in that time-place-strain bin. The `dataset[\"features\"]` matrix has shape (S,M) where `S` is the number of strains or PANGO lineages, and `M` is the number of mutations we consider, and `dataset[\"features\"][s,m]` is the portion of samples classified as lineage `s` that exhibit mutation `m` (note this is not quite binary, because each lineage is heterogeneous).\n",
    "\n",
    "The count data is heavily skewed towards a few large regions and dominant lineages like `B.1.1.7` and `B.1.617.2`."
   ]
  },
  {
   "cell_type": "code",
   "execution_count": 3,
   "metadata": {},
   "outputs": [
    {
     "data": {
      "image/png": "[encoded data removed]",
      "text/plain": [
       "<Figure size 576x216 with 3 Axes>"
      ]
     },
     "metadata": {
      "needs_background": "light"
     },
     "output_type": "display_data"
    }
   ],
   "source": [
    "fig, axes = plt.subplots(1, 3, figsize=(8, 3), sharey=True)\n",
    "for i, name in enumerate([\"time bin\", \"location\", \"lineage\"]):\n",
    "    counts = dataset[\"counts\"].sum(list({0, 1, 2} - {i}))\n",
    "    Y = counts.sort(0, True).values\n",
    "    axes[i].plot(Y)\n",
    "    axes[i].set_xlim(0, None)\n",
    "    axes[0].set_ylim(1, None)\n",
    "    axes[i].set_yscale(\"log\")\n",
    "    axes[i].set_xlabel(f\"rank\")\n",
    "    axes[i].set_title(f\"{len(Y)} {name}s\")\n",
    "axes[0].set_ylabel(\"# samples\")\n",
    "plt.subplots_adjust(wspace=0.05);"
   ]
  },
  {
   "cell_type": "markdown",
   "metadata": {},
   "source": [
    "## Helpers for manipulating data"
   ]
  },
  {
   "cell_type": "code",
   "execution_count": 4,
   "metadata": {},
   "outputs": [],
   "source": [
    "def get_lineage_id(s):\n",
    "    \"\"\"Get lineage id from string name\"\"\"\n",
    "    return np.argmax(np.array([s]) == dataset['lineages'])\n",
    "\n",
    "def get_location_id(s):\n",
    "    \"\"\"Get location id from string name\"\"\"\n",
    "    return np.argmax(np.array([s]) == dataset['locations'])\n",
    "\n",
    "def get_aggregated_counts_from_locations(locations):\n",
    "    \"\"\"Get aggregated counts from a list of locations\"\"\"\n",
    "    return sum([dataset['counts'][:, get_location_id(loc)] for loc in locations])"
   ]
  },
  {
   "cell_type": "markdown",
   "metadata": {},
   "source": [
    "## A first model\n",
    "\n",
    "First let's zoom-in on Massachusetts and a few surrounding states and the alpha and delta lineages: "
   ]
  },
  {
   "cell_type": "code",
   "execution_count": 5,
   "metadata": {},
   "outputs": [
    {
     "name": "stdout",
     "output_type": "stream",
     "text": [
      "torch.Size([27, 2])\n"
     ]
    }
   ],
   "source": [
    "northeast_states = ['USA / New York', \n",
    "                    'USA / Massachusetts', \n",
    "                    'USA / Connecticut', \n",
    "                    'USA / New Hampshire',\n",
    "                    'USA / Vermont',\n",
    "                    'USA / New Jersey',\n",
    "                    'USA / Maine',\n",
    "                    'USA / Rhode Island', \n",
    "                    'USA / Pennsylvania']\n",
    "\n",
    "northeast_counts = get_aggregated_counts_from_locations(northeast_states)\n",
    "alpha_counts = northeast_counts[:, get_lineage_id('B.1.1.7')]\n",
    "delta_counts = northeast_counts[:, get_lineage_id('B.1.617.2')]\n",
    "\n",
    "# let's combine the counts into a single tensor\n",
    "alpha_delta_counts = torch.stack([alpha_counts, delta_counts]).T\n",
    "print(alpha_delta_counts.shape)"
   ]
  },
  {
   "cell_type": "markdown",
   "metadata": {},
   "source": [
    "Let's plot the raw time series of counts for both lineages:"
   ]
  },
  {
   "cell_type": "code",
   "execution_count": 6,
   "metadata": {},
   "outputs": [
    {
     "data": {
      "image/png": "[encoded data removed]",
      "text/plain": [
       "<Figure size 504x288 with 1 Axes>"
      ]
     },
     "metadata": {
      "needs_background": "light"
     },
     "output_type": "display_data"
    }
   ],
   "source": [
    "plt.figure(figsize=(7, 4))\n",
    "plt.plot(np.arange(alpha_counts.shape[0]), alpha_counts, label='Alpha')\n",
    "plt.plot(np.arange(delta_counts.shape[0]), delta_counts, label='Delta')\n",
    "plt.xlabel(\"Time (in units of 4 weeks)\", fontsize=18)\n",
    "plt.ylabel(\"Counts\", fontsize=18)\n",
    "plt.legend(fontsize=22)\n",
    "plt.tight_layout()"
   ]
  },
  {
   "cell_type": "markdown",
   "metadata": {},
   "source": [
    "We see that at first Alpha was dominant, but then Delta started outcompeting it until Delta became dominant.\n",
    "\n",
    "### Model definition"
   ]
  },
  {
   "cell_type": "code",
   "execution_count": 7,
   "metadata": {},
   "outputs": [],
   "source": [
    "def basic_model(counts):\n",
    "    T, L = counts.shape\n",
    "\n",
    "    # Define plates over lineage and time\n",
    "    lineage_plate = pyro.plate(\"lineages\", L, dim=-1)\n",
    "    time_plate = pyro.plate(\"time\", T, dim=-2)\n",
    "\n",
    "    # Define a rate and intercept for each lineage\n",
    "    with lineage_plate:\n",
    "        rate = pyro.sample(\"rate\", dist.Normal(0, 1))\n",
    "        init = pyro.sample(\"init\", dist.Normal(0, 1))\n",
    "\n",
    "    # We measure time in units of the SARS-CoV-2 generation time of 5.5 days\n",
    "    time = torch.arange(float(T)) * dataset[\"time_step_days\"] / 5.5\n",
    "    \n",
    "    # Assume lineages grow linearly in logit space\n",
    "    logits = init + rate * time[:, None]\n",
    "    probs = torch.softmax(logits, dim=-1)\n",
    "    assert probs.shape == (T, L)\n",
    "    \n",
    "    # Observe counts via a multinomial likelihood.\n",
    "    with time_plate:\n",
    "        pyro.sample(\n",
    "            \"obs\",\n",
    "            dist.Multinomial(probs=probs.unsqueeze(-2), validate_args=False),\n",
    "            obs=counts.unsqueeze(-2),\n",
    "        )"
   ]
  },
  {
   "cell_type": "code",
   "execution_count": 8,
   "metadata": {},
   "outputs": [
    {
     "data": {
      "image/svg+xml": [
       "<?xml version=\"1.0\" encoding=\"UTF-8\" standalone=\"no\"?>\n",
       "<!DOCTYPE svg PUBLIC \"-//W3C//DTD SVG 1.1//EN\"\n",
       " \"http://www.w3.org/Graphics/SVG/1.1/DTD/svg11.dtd\">\n",
       "<!-- Generated by graphviz version 2.40.1 (20161225.0304)\n",
       " -->\n",
       "<!-- Title: %3 Pages: 1 -->\n",
       "<svg width=\"166pt\" height=\"182pt\"\n",
       " viewBox=\"0.00 0.00 166.00 182.00\" xmlns=\"http://www.w3.org/2000/svg\" xmlns:xlink=\"http://www.w3.org/1999/xlink\">\n",
       "<g id=\"graph0\" class=\"graph\" transform=\"scale(1 1) rotate(0) translate(4 178)\">\n",
       "<title>%3</title>\n",
       "<polygon fill=\"#ffffff\" stroke=\"transparent\" points=\"-4,4 -4,-178 162,-178 162,4 -4,4\"/>\n",
       "<g id=\"clust1\" class=\"cluster\">\n",
       "<title>cluster_lineages</title>\n",
       "<polygon fill=\"none\" stroke=\"#000000\" points=\"8,-91 8,-166 150,-166 150,-91 8,-91\"/>\n",
       "<text text-anchor=\"middle\" x=\"119\" y=\"-98.8\" font-family=\"Times,serif\" font-size=\"14.00\" fill=\"#000000\">lineages</text>\n",
       "</g>\n",
       "<g id=\"clust2\" class=\"cluster\">\n",
       "<title>cluster_time</title>\n",
       "<polygon fill=\"none\" stroke=\"#000000\" points=\"44,-8 44,-83 114,-83 114,-8 44,-8\"/>\n",
       "<text text-anchor=\"middle\" x=\"93.5\" y=\"-15.8\" font-family=\"Times,serif\" font-size=\"14.00\" fill=\"#000000\">time</text>\n",
       "</g>\n",
       "<!-- rate -->\n",
       "<g id=\"node1\" class=\"node\">\n",
       "<title>rate</title>\n",
       "<ellipse fill=\"#ffffff\" stroke=\"#000000\" cx=\"115\" cy=\"-140\" rx=\"27\" ry=\"18\"/>\n",
       "<text text-anchor=\"middle\" x=\"115\" y=\"-136.3\" font-family=\"Times,serif\" font-size=\"14.00\" fill=\"#000000\">rate</text>\n",
       "</g>\n",
       "<!-- obs -->\n",
       "<g id=\"node3\" class=\"node\">\n",
       "<title>obs</title>\n",
       "<ellipse fill=\"#c0c0c0\" stroke=\"#000000\" cx=\"79\" cy=\"-57\" rx=\"27\" ry=\"18\"/>\n",
       "<text text-anchor=\"middle\" x=\"79\" y=\"-53.3\" font-family=\"Times,serif\" font-size=\"14.00\" fill=\"#000000\">obs</text>\n",
       "</g>\n",
       "<!-- rate&#45;&gt;obs -->\n",
       "<g id=\"edge2\" class=\"edge\">\n",
       "<title>rate&#45;&gt;obs</title>\n",
       "<path fill=\"none\" stroke=\"#000000\" d=\"M107.3653,-122.3978C102.4641,-111.0977 96.0074,-96.2116 90.4926,-83.4967\"/>\n",
       "<polygon fill=\"#000000\" stroke=\"#000000\" points=\"93.6904,-82.0737 86.5002,-74.2922 87.2685,-84.8591 93.6904,-82.0737\"/>\n",
       "</g>\n",
       "<!-- init -->\n",
       "<g id=\"node2\" class=\"node\">\n",
       "<title>init</title>\n",
       "<ellipse fill=\"#ffffff\" stroke=\"#000000\" cx=\"43\" cy=\"-140\" rx=\"27\" ry=\"18\"/>\n",
       "<text text-anchor=\"middle\" x=\"43\" y=\"-136.3\" font-family=\"Times,serif\" font-size=\"14.00\" fill=\"#000000\">init</text>\n",
       "</g>\n",
       "<!-- init&#45;&gt;obs -->\n",
       "<g id=\"edge1\" class=\"edge\">\n",
       "<title>init&#45;&gt;obs</title>\n",
       "<path fill=\"none\" stroke=\"#000000\" d=\"M50.6347,-122.3978C55.5359,-111.0977 61.9926,-96.2116 67.5074,-83.4967\"/>\n",
       "<polygon fill=\"#000000\" stroke=\"#000000\" points=\"70.7315,-84.8591 71.4998,-74.2922 64.3096,-82.0737 70.7315,-84.8591\"/>\n",
       "</g>\n",
       "</g>\n",
       "</svg>\n"
      ],
      "text/plain": [
       "<graphviz.dot.Digraph at 0x7f9d52f8b460>"
      ]
     },
     "execution_count": 8,
     "metadata": {},
     "output_type": "execute_result"
    }
   ],
   "source": [
    "# Let's look at graphical structure of our model\n",
    "pyro.render_model(partial(basic_model, alpha_delta_counts))"
   ]
  },
  {
   "cell_type": "markdown",
   "metadata": {},
   "source": [
    "### Define helper for fitting models"
   ]
  },
  {
   "cell_type": "code",
   "execution_count": 9,
   "metadata": {},
   "outputs": [],
   "source": [
    "def fit_svi(model, lr=0.1, num_steps=1001, log_every=250):\n",
    "    pyro.clear_param_store()\n",
    "    pyro.set_rng_seed(20211206)\n",
    "    if smoke_test:\n",
    "        num_steps = 2\n",
    "        \n",
    "    # Train via mean field variational inference.\n",
    "    guide = AutoNormal(model, init_scale=0.01)\n",
    "    optim = ClippedAdam({\"lr\": lr, \"lrd\": 0.1 ** (1 / num_steps)})\n",
    "    svi = SVI(model, guide, optim, Trace_ELBO())\n",
    "    losses = []\n",
    "    for step in range(num_steps):\n",
    "        loss = svi.step()\n",
    "        losses.append(loss)\n",
    "        if step % log_every == 0:\n",
    "            print(f\"step {step: >4d} loss = {loss:0.6g}\")\n",
    "            \n",
    "    # Plot to assess convergence.\n",
    "    plt.figure(figsize=(6, 3))\n",
    "    plt.plot(losses)\n",
    "    plt.xlabel(\"SVI step\", fontsize=18)\n",
    "    plt.ylabel(\"loss\", fontsize=18)\n",
    "    plt.tight_layout()\n",
    "\n",
    "    return guide"
   ]
  },
  {
   "cell_type": "markdown",
   "metadata": {},
   "source": [
    "### Let's fit `basic_model` and inspect the results"
   ]
  },
  {
   "cell_type": "code",
   "execution_count": 10,
   "metadata": {},
   "outputs": [
    {
     "name": "stdout",
     "output_type": "stream",
     "text": [
      "step    0 loss = 18900.4\n",
      "step  250 loss = 224.146\n",
      "step  500 loss = 194.991\n",
      "step  750 loss = 159.859\n",
      "step 1000 loss = 132.551\n",
      "step 1250 loss = 238.929\n",
      "step 1500 loss = 147.259\n"
     ]
    },
    {
     "data": {
      "image/png": "[encoded data removed]",
      "text/plain": [
       "<Figure size 432x216 with 1 Axes>"
      ]
     },
     "metadata": {
      "needs_background": "light"
     },
     "output_type": "display_data"
    }
   ],
   "source": [
    "# We truncate the data to the period with non-zero counts\n",
    "guide = fit_svi(partial(basic_model, alpha_delta_counts[14:]), num_steps=1501)"
   ]
  },
  {
   "cell_type": "markdown",
   "metadata": {},
   "source": [
    "### Let's inspect the posterior means of our latent parameters"
   ]
  },
  {
   "cell_type": "code",
   "execution_count": 11,
   "metadata": {},
   "outputs": [
    {
     "name": "stdout",
     "output_type": "stream",
     "text": [
      "rate [-0.20363875  0.20364828]\n",
      "init [ 6.7013316 -6.7033477]\n"
     ]
    }
   ],
   "source": [
    "for k, v in guide.median().items():\n",
    "    print(k, v.data.cpu().numpy())"
   ]
  },
  {
   "cell_type": "markdown",
   "metadata": {},
   "source": [
    "As expected the Delta lineage has a differential growth rate advantage with respect to the Alpha lineage:"
   ]
  },
  {
   "cell_type": "code",
   "execution_count": 12,
   "metadata": {},
   "outputs": [
    {
     "name": "stdout",
     "output_type": "stream",
     "text": [
      "multiplicative advantage: 1.50\n"
     ]
    }
   ],
   "source": [
    "print(\"multiplicative advantage: {:.2f}\".format(\n",
    "      np.exp(guide.median()['rate'][1] - guide.median()['rate'][0])))"
   ]
  },
  {
   "cell_type": "markdown",
   "metadata": {},
   "source": [
    "This seems like an overestimate. Can we get better estimates by modeling each spatial region individually?"
   ]
  },
  {
   "cell_type": "markdown",
   "metadata": {},
   "source": [
    "## Defining a regional model"
   ]
  },
  {
   "cell_type": "code",
   "execution_count": 13,
   "metadata": {},
   "outputs": [],
   "source": [
    "# first extract the data we want to use\n",
    "alpha_id = get_lineage_id('B.1.1.7')\n",
    "delta_id = get_lineage_id('B.1.617.2')\n",
    "counts = dataset['counts'][:, :, [alpha_id, delta_id]]"
   ]
  },
  {
   "cell_type": "code",
   "execution_count": 14,
   "metadata": {},
   "outputs": [],
   "source": [
    "# Model each region as multivariate logistic growth.\n",
    "def regional_model(counts):\n",
    "    T, R, L = counts.shape\n",
    "        \n",
    "    # Now we also define a region plate\n",
    "    lineage_plate = pyro.plate(\"lineages\", L, dim=-1)\n",
    "    region_plate = pyro.plate(\"region\", R, dim=-2)\n",
    "    time_plate = pyro.plate(\"time\", T, dim=-3)\n",
    "\n",
    "    # We use the same growth rate (slope) for each region\n",
    "    with lineage_plate:\n",
    "        rate = pyro.sample(\"rate\", dist.Normal(0, 1))\n",
    "        \n",
    "    # We allow the the init to vary from region to region\n",
    "    init_scale = pyro.sample(\"init_scale\", dist.LogNormal(0, 2))\n",
    "    with region_plate, lineage_plate:\n",
    "        init = pyro.sample(\"init\", dist.Normal(0, init_scale))\n",
    "\n",
    "    # We measure time in units of the SARS-CoV-2 generation time of 5.5 days\n",
    "    time = torch.arange(float(T)) * dataset[\"time_step_days\"] / 5.5\n",
    "\n",
    "    logits = init + rate * time[:, None, None]\n",
    "    \n",
    "    # Observe sequences via a multinomial likelihood.\n",
    "    with time_plate, region_plate:\n",
    "        pyro.sample(\n",
    "            \"obs\",\n",
    "            dist.Multinomial(logits=logits.unsqueeze(-2), validate_args=False),\n",
    "            obs=counts.unsqueeze(-2),\n",
    "        )"
   ]
  },
  {
   "cell_type": "code",
   "execution_count": 15,
   "metadata": {},
   "outputs": [
    {
     "data": {
      "image/svg+xml": [
       "<?xml version=\"1.0\" encoding=\"UTF-8\" standalone=\"no\"?>\n",
       "<!DOCTYPE svg PUBLIC \"-//W3C//DTD SVG 1.1//EN\"\n",
       " \"http://www.w3.org/Graphics/SVG/1.1/DTD/svg11.dtd\">\n",
       "<!-- Generated by graphviz version 2.40.1 (20161225.0304)\n",
       " -->\n",
       "<!-- Title: %3 Pages: 1 -->\n",
       "<svg width=\"168pt\" height=\"277pt\"\n",
       " viewBox=\"0.00 0.00 168.50 277.00\" xmlns=\"http://www.w3.org/2000/svg\" xmlns:xlink=\"http://www.w3.org/1999/xlink\">\n",
       "<g id=\"graph0\" class=\"graph\" transform=\"scale(1 1) rotate(0) translate(4 273)\">\n",
       "<title>%3</title>\n",
       "<polygon fill=\"#ffffff\" stroke=\"transparent\" points=\"-4,4 -4,-273 164.496,-273 164.496,4 -4,4\"/>\n",
       "<g id=\"clust1\" class=\"cluster\">\n",
       "<title>cluster_lineages</title>\n",
       "<polygon fill=\"none\" stroke=\"#000000\" points=\"10.496,-130 10.496,-205 152.496,-205 152.496,-130 10.496,-130\"/>\n",
       "<text text-anchor=\"middle\" x=\"121.496\" y=\"-137.8\" font-family=\"Times,serif\" font-size=\"14.00\" fill=\"#000000\">lineages</text>\n",
       "</g>\n",
       "<g id=\"clust2\" class=\"cluster\">\n",
       "<title>cluster_region</title>\n",
       "<polygon fill=\"none\" stroke=\"#000000\" points=\"36.496,-8 36.496,-122 122.496,-122 122.496,-8 36.496,-8\"/>\n",
       "<text text-anchor=\"middle\" x=\"96.496\" y=\"-15.8\" font-family=\"Times,serif\" font-size=\"14.00\" fill=\"#000000\">region</text>\n",
       "</g>\n",
       "<g id=\"clust3\" class=\"cluster\">\n",
       "<title>cluster_time</title>\n",
       "<polygon fill=\"none\" stroke=\"#000000\" points=\"44.496,-39 44.496,-114 114.496,-114 114.496,-39 44.496,-39\"/>\n",
       "<text text-anchor=\"middle\" x=\"93.996\" y=\"-46.8\" font-family=\"Times,serif\" font-size=\"14.00\" fill=\"#000000\">time</text>\n",
       "</g>\n",
       "<!-- init_scale -->\n",
       "<g id=\"node1\" class=\"node\">\n",
       "<title>init_scale</title>\n",
       "<ellipse fill=\"#ffffff\" stroke=\"#000000\" cx=\"45.496\" cy=\"-251\" rx=\"45.4919\" ry=\"18\"/>\n",
       "<text text-anchor=\"middle\" x=\"45.496\" y=\"-247.3\" font-family=\"Times,serif\" font-size=\"14.00\" fill=\"#000000\">init_scale</text>\n",
       "</g>\n",
       "<!-- init -->\n",
       "<g id=\"node3\" class=\"node\">\n",
       "<title>init</title>\n",
       "<ellipse fill=\"#ffffff\" stroke=\"#000000\" cx=\"45.496\" cy=\"-179\" rx=\"27\" ry=\"18\"/>\n",
       "<text text-anchor=\"middle\" x=\"45.496\" y=\"-175.3\" font-family=\"Times,serif\" font-size=\"14.00\" fill=\"#000000\">init</text>\n",
       "</g>\n",
       "<!-- init_scale&#45;&gt;init -->\n",
       "<g id=\"edge1\" class=\"edge\">\n",
       "<title>init_scale&#45;&gt;init</title>\n",
       "<path fill=\"none\" stroke=\"#000000\" d=\"M45.496,-232.8314C45.496,-225.131 45.496,-215.9743 45.496,-207.4166\"/>\n",
       "<polygon fill=\"#000000\" stroke=\"#000000\" points=\"48.9961,-207.4132 45.496,-197.4133 41.9961,-207.4133 48.9961,-207.4132\"/>\n",
       "</g>\n",
       "<!-- rate -->\n",
       "<g id=\"node2\" class=\"node\">\n",
       "<title>rate</title>\n",
       "<ellipse fill=\"#ffffff\" stroke=\"#000000\" cx=\"117.496\" cy=\"-179\" rx=\"27\" ry=\"18\"/>\n",
       "<text text-anchor=\"middle\" x=\"117.496\" y=\"-175.3\" font-family=\"Times,serif\" font-size=\"14.00\" fill=\"#000000\">rate</text>\n",
       "</g>\n",
       "<!-- obs -->\n",
       "<g id=\"node4\" class=\"node\">\n",
       "<title>obs</title>\n",
       "<ellipse fill=\"#c0c0c0\" stroke=\"#000000\" cx=\"79.496\" cy=\"-88\" rx=\"27\" ry=\"18\"/>\n",
       "<text text-anchor=\"middle\" x=\"79.496\" y=\"-84.3\" font-family=\"Times,serif\" font-size=\"14.00\" fill=\"#000000\">obs</text>\n",
       "</g>\n",
       "<!-- rate&#45;&gt;obs -->\n",
       "<g id=\"edge3\" class=\"edge\">\n",
       "<title>rate&#45;&gt;obs</title>\n",
       "<path fill=\"none\" stroke=\"#000000\" d=\"M110.1692,-161.4543C104.6493,-148.2357 96.9834,-129.8779 90.6963,-114.8218\"/>\n",
       "<polygon fill=\"#000000\" stroke=\"#000000\" points=\"93.8834,-113.3709 86.8003,-105.4919 87.4239,-116.0683 93.8834,-113.3709\"/>\n",
       "</g>\n",
       "<!-- init&#45;&gt;obs -->\n",
       "<g id=\"edge2\" class=\"edge\">\n",
       "<title>init&#45;&gt;obs</title>\n",
       "<path fill=\"none\" stroke=\"#000000\" d=\"M52.0515,-161.4543C56.9433,-148.3616 63.7188,-130.2271 69.3136,-115.2529\"/>\n",
       "<polygon fill=\"#000000\" stroke=\"#000000\" points=\"72.7392,-116.0844 72.9605,-105.4919 66.1819,-113.6344 72.7392,-116.0844\"/>\n",
       "</g>\n",
       "</g>\n",
       "</svg>\n"
      ],
      "text/plain": [
       "<graphviz.dot.Digraph at 0x7f9d5a349f40>"
      ]
     },
     "execution_count": 15,
     "metadata": {},
     "output_type": "execute_result"
    }
   ],
   "source": [
    "# Let's look at the graphical structure of our model\n",
    "pyro.render_model(partial(regional_model, counts))"
   ]
  },
  {
   "cell_type": "code",
   "execution_count": 16,
   "metadata": {},
   "outputs": [
    {
     "name": "stdout",
     "output_type": "stream",
     "text": [
      "step    0 loss = 481989\n",
      "step  250 loss = 244822\n",
      "step  500 loss = 122902\n",
      "step  750 loss = 97737.9\n",
      "step 1000 loss = 95103.5\n",
      "step 1250 loss = 73333.3\n",
      "step 1500 loss = 52314.7\n",
      "step 1750 loss = 55758.5\n",
      "step 2000 loss = 40749.7\n",
      "step 2250 loss = 39190\n",
      "step 2500 loss = 38332.9\n",
      "step 2750 loss = 26367.2\n",
      "step 3000 loss = 24913\n"
     ]
    },
    {
     "data": {
      "image/png": "[encoded data removed]",
      "text/plain": [
       "<Figure size 432x216 with 1 Axes>"
      ]
     },
     "metadata": {
      "needs_background": "light"
     },
     "output_type": "display_data"
    }
   ],
   "source": [
    "guide = fit_svi(partial(regional_model, counts), num_steps=3001)"
   ]
  },
  {
   "cell_type": "code",
   "execution_count": 17,
   "metadata": {},
   "outputs": [
    {
     "name": "stdout",
     "output_type": "stream",
     "text": [
      "multiplicative advantage: 1.16\n"
     ]
    }
   ],
   "source": [
    "print(\"multiplicative advantage: {:.2f}\".format(\n",
    "      np.exp(guide.median()['rate'][1] - guide.median()['rate'][0])))"
   ]
  },
  {
   "cell_type": "markdown",
   "metadata": {},
   "source": [
    "## Defining an alternative regional model\n",
    "\n",
    "The regional model we defined above assumed that the `rate` for each lineage did not vary between regions. Here we add additional hierarchical structure and allow the rate to vary from region to region."
   ]
  },
  {
   "cell_type": "code",
   "execution_count": 18,
   "metadata": {},
   "outputs": [],
   "source": [
    "def regional_model2(counts):\n",
    "    T, R, L = counts.shape\n",
    "    \n",
    "    lineage_plate = pyro.plate(\"lineages\", L, dim=-1)\n",
    "    region_plate = pyro.plate(\"region\", R, dim=-2)\n",
    "    time_plate = pyro.plate(\"time\", T, dim=-3)\n",
    "\n",
    "    # We assume the init can vary a lot from region to region but\n",
    "    # that the rate varies considerably less.\n",
    "    init_scale = pyro.sample(\"init_scale\", dist.LogNormal(0, 2))\n",
    "    rate_scale = pyro.sample(\"rate_scale\", dist.LogNormal(-4, 2))\n",
    "    \n",
    "    # the per-region per-lineage rate is governed by a hierarchical prior\n",
    "    with lineage_plate:\n",
    "        rate_lineage = pyro.sample(\"rate\", dist.Normal(0, 1))\n",
    "        \n",
    "    # We allow the rate and init to vary from region to region\n",
    "    with region_plate, lineage_plate:\n",
    "        rate_region_lineage = pyro.sample(\"rate_region_lineage\", \n",
    "                                          dist.Normal(rate_lineage, rate_scale))\n",
    "        init = pyro.sample(\"init\", dist.Normal(0, init_scale))\n",
    "\n",
    "    # We measure time in units of the SARS-CoV-2 generation time of 5.5 days\n",
    "    time = torch.arange(float(T)) * dataset[\"time_step_days\"] / 5.5\n",
    "\n",
    "    logits = init + rate_region_lineage * time[:, None, None]\n",
    "    \n",
    "    # Observe sequences via a multinomial likelihood.\n",
    "    with time_plate, region_plate:\n",
    "        pyro.sample(\n",
    "            \"obs\",\n",
    "            dist.Multinomial(logits=logits.unsqueeze(-2), validate_args=False),\n",
    "            obs=counts.unsqueeze(-2),\n",
    "        )"
   ]
  },
  {
   "cell_type": "code",
   "execution_count": 19,
   "metadata": {},
   "outputs": [
    {
     "data": {
      "image/svg+xml": [
       "<?xml version=\"1.0\" encoding=\"UTF-8\" standalone=\"no\"?>\n",
       "<!DOCTYPE svg PUBLIC \"-//W3C//DTD SVG 1.1//EN\"\n",
       " \"http://www.w3.org/Graphics/SVG/1.1/DTD/svg11.dtd\">\n",
       "<!-- Generated by graphviz version 2.40.1 (20161225.0304)\n",
       " -->\n",
       "<!-- Title: %3 Pages: 1 -->\n",
       "<svg width=\"302pt\" height=\"349pt\"\n",
       " viewBox=\"0.00 0.00 302.29 349.00\" xmlns=\"http://www.w3.org/2000/svg\" xmlns:xlink=\"http://www.w3.org/1999/xlink\">\n",
       "<g id=\"graph0\" class=\"graph\" transform=\"scale(1 1) rotate(0) translate(4 345)\">\n",
       "<title>%3</title>\n",
       "<polygon fill=\"#ffffff\" stroke=\"transparent\" points=\"-4,4 -4,-345 298.2918,-345 298.2918,4 -4,4\"/>\n",
       "<g id=\"clust1\" class=\"cluster\">\n",
       "<title>cluster_lineages</title>\n",
       "<polygon fill=\"none\" stroke=\"#000000\" points=\"101.7958,-130 101.7958,-277 283.7958,-277 283.7958,-130 101.7958,-130\"/>\n",
       "<text text-anchor=\"middle\" x=\"252.7958\" y=\"-137.8\" font-family=\"Times,serif\" font-size=\"14.00\" fill=\"#000000\">lineages</text>\n",
       "</g>\n",
       "<g id=\"clust2\" class=\"cluster\">\n",
       "<title>cluster_region</title>\n",
       "<polygon fill=\"none\" stroke=\"#000000\" points=\"173.7958,-8 173.7958,-122 259.7958,-122 259.7958,-8 173.7958,-8\"/>\n",
       "<text text-anchor=\"middle\" x=\"233.7958\" y=\"-15.8\" font-family=\"Times,serif\" font-size=\"14.00\" fill=\"#000000\">region</text>\n",
       "</g>\n",
       "<g id=\"clust3\" class=\"cluster\">\n",
       "<title>cluster_time</title>\n",
       "<polygon fill=\"none\" stroke=\"#000000\" points=\"181.7958,-39 181.7958,-114 251.7958,-114 251.7958,-39 181.7958,-39\"/>\n",
       "<text text-anchor=\"middle\" x=\"231.2958\" y=\"-46.8\" font-family=\"Times,serif\" font-size=\"14.00\" fill=\"#000000\">time</text>\n",
       "</g>\n",
       "<!-- init_scale -->\n",
       "<g id=\"node1\" class=\"node\">\n",
       "<title>init_scale</title>\n",
       "<ellipse fill=\"#ffffff\" stroke=\"#000000\" cx=\"248.7958\" cy=\"-323\" rx=\"45.4919\" ry=\"18\"/>\n",
       "<text text-anchor=\"middle\" x=\"248.7958\" y=\"-319.3\" font-family=\"Times,serif\" font-size=\"14.00\" fill=\"#000000\">init_scale</text>\n",
       "</g>\n",
       "<!-- init -->\n",
       "<g id=\"node5\" class=\"node\">\n",
       "<title>init</title>\n",
       "<ellipse fill=\"#ffffff\" stroke=\"#000000\" cx=\"248.7958\" cy=\"-251\" rx=\"27\" ry=\"18\"/>\n",
       "<text text-anchor=\"middle\" x=\"248.7958\" y=\"-247.3\" font-family=\"Times,serif\" font-size=\"14.00\" fill=\"#000000\">init</text>\n",
       "</g>\n",
       "<!-- init_scale&#45;&gt;init -->\n",
       "<g id=\"edge3\" class=\"edge\">\n",
       "<title>init_scale&#45;&gt;init</title>\n",
       "<path fill=\"none\" stroke=\"#000000\" d=\"M248.7958,-304.8314C248.7958,-297.131 248.7958,-287.9743 248.7958,-279.4166\"/>\n",
       "<polygon fill=\"#000000\" stroke=\"#000000\" points=\"252.2959,-279.4132 248.7958,-269.4133 245.2959,-279.4133 252.2959,-279.4132\"/>\n",
       "</g>\n",
       "<!-- rate_scale -->\n",
       "<g id=\"node2\" class=\"node\">\n",
       "<title>rate_scale</title>\n",
       "<ellipse fill=\"#ffffff\" stroke=\"#000000\" cx=\"46.7958\" cy=\"-251\" rx=\"46.5926\" ry=\"18\"/>\n",
       "<text text-anchor=\"middle\" x=\"46.7958\" y=\"-247.3\" font-family=\"Times,serif\" font-size=\"14.00\" fill=\"#000000\">rate_scale</text>\n",
       "</g>\n",
       "<!-- rate_region_lineage -->\n",
       "<g id=\"node4\" class=\"node\">\n",
       "<title>rate_region_lineage</title>\n",
       "<ellipse fill=\"#ffffff\" stroke=\"#000000\" cx=\"192.7958\" cy=\"-179\" rx=\"83.3857\" ry=\"18\"/>\n",
       "<text text-anchor=\"middle\" x=\"192.7958\" y=\"-175.3\" font-family=\"Times,serif\" font-size=\"14.00\" fill=\"#000000\">rate_region_lineage</text>\n",
       "</g>\n",
       "<!-- rate_scale&#45;&gt;rate_region_lineage -->\n",
       "<g id=\"edge1\" class=\"edge\">\n",
       "<title>rate_scale&#45;&gt;rate_region_lineage</title>\n",
       "<path fill=\"none\" stroke=\"#000000\" d=\"M75.6407,-236.7751C96.8431,-226.3192 126.0056,-211.9376 149.9303,-200.1392\"/>\n",
       "<polygon fill=\"#000000\" stroke=\"#000000\" points=\"151.7295,-203.1544 159.1501,-195.5924 148.6334,-196.8763 151.7295,-203.1544\"/>\n",
       "</g>\n",
       "<!-- rate -->\n",
       "<g id=\"node3\" class=\"node\">\n",
       "<title>rate</title>\n",
       "<ellipse fill=\"#ffffff\" stroke=\"#000000\" cx=\"176.7958\" cy=\"-251\" rx=\"27\" ry=\"18\"/>\n",
       "<text text-anchor=\"middle\" x=\"176.7958\" y=\"-247.3\" font-family=\"Times,serif\" font-size=\"14.00\" fill=\"#000000\">rate</text>\n",
       "</g>\n",
       "<!-- rate&#45;&gt;rate_region_lineage -->\n",
       "<g id=\"edge2\" class=\"edge\">\n",
       "<title>rate&#45;&gt;rate_region_lineage</title>\n",
       "<path fill=\"none\" stroke=\"#000000\" d=\"M180.8333,-232.8314C182.5445,-225.131 184.5793,-215.9743 186.481,-207.4166\"/>\n",
       "<polygon fill=\"#000000\" stroke=\"#000000\" points=\"189.9513,-207.9344 188.704,-197.4133 183.118,-206.4159 189.9513,-207.9344\"/>\n",
       "</g>\n",
       "<!-- obs -->\n",
       "<g id=\"node6\" class=\"node\">\n",
       "<title>obs</title>\n",
       "<ellipse fill=\"#c0c0c0\" stroke=\"#000000\" cx=\"216.7958\" cy=\"-88\" rx=\"27\" ry=\"18\"/>\n",
       "<text text-anchor=\"middle\" x=\"216.7958\" y=\"-84.3\" font-family=\"Times,serif\" font-size=\"14.00\" fill=\"#000000\">obs</text>\n",
       "</g>\n",
       "<!-- rate_region_lineage&#45;&gt;obs -->\n",
       "<g id=\"edge4\" class=\"edge\">\n",
       "<title>rate_region_lineage&#45;&gt;obs</title>\n",
       "<path fill=\"none\" stroke=\"#000000\" d=\"M197.5375,-161.0213C200.9232,-148.1837 205.5438,-130.6641 209.4103,-116.0034\"/>\n",
       "<polygon fill=\"#000000\" stroke=\"#000000\" points=\"212.8981,-116.5033 212.0641,-105.9413 206.1296,-114.7181 212.8981,-116.5033\"/>\n",
       "</g>\n",
       "<!-- init&#45;&gt;obs -->\n",
       "<g id=\"edge5\" class=\"edge\">\n",
       "<title>init&#45;&gt;obs</title>\n",
       "<path fill=\"none\" stroke=\"#000000\" d=\"M262.9188,-235.2844C271.0493,-225.1468 280.4859,-211.2347 284.7958,-197 293.425,-168.4999 299.3002,-156.0065 284.7958,-130 277.3449,-116.6403 263.7009,-106.9981 250.5795,-100.3492\"/>\n",
       "<polygon fill=\"#000000\" stroke=\"#000000\" points=\"251.7598,-97.0392 241.2135,-96.0265 248.8264,-103.395 251.7598,-97.0392\"/>\n",
       "</g>\n",
       "</g>\n",
       "</svg>\n"
      ],
      "text/plain": [
       "<graphviz.dot.Digraph at 0x7f9d3d70f040>"
      ]
     },
     "execution_count": 19,
     "metadata": {},
     "output_type": "execute_result"
    }
   ],
   "source": [
    "# Let's look at the graphical structure of our model\n",
    "pyro.render_model(partial(regional_model2, counts))"
   ]
  },
  {
   "cell_type": "code",
   "execution_count": 20,
   "metadata": {},
   "outputs": [
    {
     "name": "stdout",
     "output_type": "stream",
     "text": [
      "step    0 loss = 397076\n",
      "step  250 loss = 176604\n",
      "step  500 loss = 165475\n",
      "step  750 loss = 124165\n",
      "step 1000 loss = 98706.2\n",
      "step 1250 loss = 72609.7\n",
      "step 1500 loss = 60591.5\n",
      "step 1750 loss = 55031.9\n",
      "step 2000 loss = 47228.6\n",
      "step 2250 loss = 38411.4\n",
      "step 2500 loss = 34806.3\n",
      "step 2750 loss = 30635.8\n",
      "step 3000 loss = 26564.1\n"
     ]
    },
    {
     "data": {
      "image/png": "[encoded data removed]",
      "text/plain": [
       "<Figure size 432x216 with 1 Axes>"
      ]
     },
     "metadata": {
      "needs_background": "light"
     },
     "output_type": "display_data"
    }
   ],
   "source": [
    "guide = fit_svi(partial(regional_model2, counts), num_steps=3001)"
   ]
  },
  {
   "cell_type": "code",
   "execution_count": 21,
   "metadata": {},
   "outputs": [
    {
     "name": "stdout",
     "output_type": "stream",
     "text": [
      "multiplicative advantage: 1.16\n"
     ]
    }
   ],
   "source": [
    "print(\"multiplicative advantage: {:.2f}\".format(\n",
    "      np.exp(guide.median()['rate'][1] - guide.median()['rate'][0])))"
   ]
  }
 ],
 "metadata": {
  "kernelspec": {
   "display_name": "Python 3",
   "language": "python",
   "name": "python3"
  },
  "language_info": {
   "codemirror_mode": {
    "name": "ipython",
    "version": 3
   },
   "file_extension": ".py",
   "mimetype": "text/x-python",
   "name": "python",
   "nbconvert_exporter": "python",
   "pygments_lexer": "ipython3",
   "version": "3.8.2"
  }
 },
 "nbformat": 4,
 "nbformat_minor": 4
}
