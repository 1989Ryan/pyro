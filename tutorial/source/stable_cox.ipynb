{
 "cells": [
  {
   "cell_type": "markdown",
   "metadata": {},
   "source": [
    "## Forecasting with structured VAEs\n",
    "\n",
    "For background see [(Johnson et al. 2016)](https://arxiv.org/abs/1603.06277)."
   ]
  },
  {
   "cell_type": "code",
   "execution_count": null,
   "metadata": {},
   "outputs": [],
   "source": [
    "import pyro\n",
    "import torch\n",
    "import matplotlib.pyplot as plt\n",
    "import pyro.distributions as dist\n",
    "from pyro.contrib.examples.bart import load_bart_od\n",
    "from pyro.contrib.timeseries.stable import LogStableCoxProcess\n",
    "from pyro.nn import PyroParam, PyroSample\n",
    "from torch.distributions import constraints\n",
    "\n",
    "%matplotlib inline\n",
    "pyro.enable_validation(True)\n",
    "pyro.set_rng_seed(2020012917)"
   ]
  },
  {
   "cell_type": "markdown",
   "metadata": {},
   "source": [
    "## Data: 9 years of hourly rider counts among 50 train stations"
   ]
  },
  {
   "cell_type": "code",
   "execution_count": null,
   "metadata": {},
   "outputs": [],
   "source": [
    "dataset = load_bart_od()\n",
    "counts = dataset[\"counts\"]\n",
    "print(dataset.keys())\n",
    "print(counts.shape)\n",
    "print(dataset[\"start_date\"])\n",
    "print(\" \".join(dataset[\"stations\"]))"
   ]
  },
  {
   "cell_type": "markdown",
   "metadata": {},
   "source": [
    "## Univariate forecasting"
   ]
  },
  {
   "cell_type": "code",
   "execution_count": null,
   "metadata": {},
   "outputs": [],
   "source": [
    "station = \"EMBR\"\n",
    "station_id = dataset[\"stations\"].index(station)\n",
    "data = counts[:, station_id].sum(-1).unsqueeze(-1)\n",
    "plt.figure(figsize=(9, 2.5))\n",
    "plt.plot(data[:4*24*7])\n",
    "plt.title(\"Departures from {}\".format(station))\n",
    "plt.xlabel(\"hour after {}\".format(dataset[\"start_date\"][0].strftime(\"%Y-%m-%d\")))\n",
    "plt.ylabel(\"# riders\")\n",
    "plt.tight_layout()"
   ]
  },
  {
   "cell_type": "code",
   "execution_count": null,
   "metadata": {},
   "outputs": [],
   "source": [
    "pyro.clear_param_store()\n",
    "process = LogStableCoxProcess(\"foo\", hidden_dim=1, obs_dim=1, max_rate=1e5)\n",
    "process.fit(data, learning_rate=1e-3)"
   ]
  },
  {
   "cell_type": "code",
   "execution_count": null,
   "metadata": {},
   "outputs": [],
   "source": [
    "x = torch.linspace(-80, 8, 1000)\n",
    "alpha = torch.tensor(0.1)\n",
    "beta = 1.\n",
    "loc = alpha.digamma()\n",
    "scale = alpha.polygamma(1).sqrt()\n",
    "y = dist.TransformedDistribution(dist.Gamma(alpha, beta),\n",
    "                                 dist.transforms.ExpTransform().inv).log_prob(x).exp()\n",
    "y2 = dist.Normal(loc, scale).log_prob(x).exp()\n",
    "plt.plot(x, y, 'k--')\n",
    "plt.plot(x, y2, 'r-');"
   ]
  },
  {
   "cell_type": "code",
   "execution_count": null,
   "metadata": {},
   "outputs": [],
   "source": []
  }
 ],
 "metadata": {
  "kernelspec": {
   "display_name": "Python 3",
   "language": "python",
   "name": "python3"
  },
  "language_info": {
   "codemirror_mode": {
    "name": "ipython",
    "version": 3
   },
   "file_extension": ".py",
   "mimetype": "text/x-python",
   "name": "python",
   "nbconvert_exporter": "python",
   "pygments_lexer": "ipython3",
   "version": "3.7.2"
  }
 },
 "nbformat": 4,
 "nbformat_minor": 2
}
