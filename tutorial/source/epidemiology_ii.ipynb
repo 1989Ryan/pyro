{
 "cells": [
  {
   "cell_type": "markdown",
   "metadata": {},
   "source": [
    "# Epidemiology II: Regional Models"
   ]
  },
  {
   "cell_type": "code",
   "execution_count": null,
   "metadata": {},
   "outputs": [],
   "source": [
    "import os\n",
    "import urllib.request\n",
    "from collections import OrderedDict\n",
    "\n",
    "import pandas as pd\n",
    "import matplotlib.pyplot as plt\n",
    "import torch\n",
    "import pyro\n",
    "import pyro.distributions as dist\n",
    "from pyro.contrib.epidemiology import CompartmentalModel, binomial_dist, infection_dist\n",
    "\n",
    "torch.set_default_dtype(torch.double)  # Needed for numerical stability.\n",
    "pyro.enable_validation(True)           # Always a good idea.\n",
    "print(torch.__version__)\n",
    "print(pyro.__version__)\n",
    "%matplotlib inline"
   ]
  },
  {
   "cell_type": "markdown",
   "metadata": {},
   "source": [
    "## Getting data\n",
    "\n",
    "Let's consider regional data for Bay Area counties. We'll use data from [Johns Hopkins University](https://github.com/CSSEGISandData)."
   ]
  },
  {
   "cell_type": "code",
   "execution_count": null,
   "metadata": {},
   "outputs": [],
   "source": [
    "url = (\"https://raw.githubusercontent.com/CSSEGISandData/COVID-19/master/\"\n",
    "            \"csse_covid_19_data/csse_covid_19_time_series/\")\n",
    "\n",
    "def download_df(basename):\n",
    "    local_path = os.path.join(\"/tmp\", basename)\n",
    "    if not os.path.exists(local_path):\n",
    "        urllib.request.urlretrieve(url + basename, local_path)\n",
    "    return pd.read_csv(local_path)\n",
    "\n",
    "confirmed_df = download_df(\"time_series_covid19_confirmed_US.csv\")\n",
    "deaths_df = download_df(\"time_series_covid19_deaths_US.csv\")\n",
    "confirmed_df.columns[:13]"
   ]
  },
  {
   "cell_type": "markdown",
   "metadata": {},
   "source": [
    "We'll pull out the Bay Area counties with their approximate populations."
   ]
  },
  {
   "cell_type": "code",
   "execution_count": null,
   "metadata": {},
   "outputs": [],
   "source": [
    "counties = OrderedDict([\n",
    "    (\"Santa Clara\", 1763000),\n",
    "    (\"Alameda\", 1495000),\n",
    "    (\"Contra Costa\", 1038000),\n",
    "    (\"San Francisco\", 871000),\n",
    "    (\"San Mateo\", 712000),\n",
    "    (\"Sonoma\", 479000),\n",
    "    (\"Solano\", 412000),\n",
    "    (\"Marin\", 251000),\n",
    "    (\"Napa\", 135000),\n",
    "])\n",
    "population = torch.tensor(list(counties.values()), dtype=torch.double)"
   ]
  },
  {
   "cell_type": "markdown",
   "metadata": {},
   "source": [
    "And convert from dataframe to PyTorch tensor."
   ]
  },
  {
   "cell_type": "code",
   "execution_count": null,
   "metadata": {},
   "outputs": [],
   "source": [
    "confirmed = []\n",
    "deaths = []\n",
    "for county in counties:\n",
    "    i = list(confirmed_df[\"Admin2\"]).index(county)\n",
    "    confirmed.append(confirmed_df.iloc[i, 11:])\n",
    "    i = list(deaths_df[\"Admin2\"]).index(county)\n",
    "    deaths.append(deaths_df.iloc[i, 12:])\n",
    "confirmed = torch.tensor(confirmed, dtype=torch.float64).T.contiguous()\n",
    "deaths = torch.tensor(deaths, dtype=torch.float64).T.contiguous()\n",
    "assert confirmed.shape == deaths.shape\n",
    "print(confirmed.shape, deaths.shape)"
   ]
  },
  {
   "cell_type": "markdown",
   "metadata": {},
   "source": [
    "We need to convert from cumulative to difference data."
   ]
  },
  {
   "cell_type": "code",
   "execution_count": null,
   "metadata": {},
   "outputs": [],
   "source": [
    "confirmed = confirmed[1:] - confirmed[:-1]\n",
    "deaths = deaths[1:] - deaths[:-1]"
   ]
  },
  {
   "cell_type": "code",
   "execution_count": null,
   "metadata": {},
   "outputs": [],
   "source": [
    "fig, axes = plt.subplots(2, 1, figsize=(8,6), sharex=True)\n",
    "axes[0].plot(confirmed)\n",
    "axes[1].plot(deaths)\n",
    "axes[0].set_ylabel(\"new cases\")\n",
    "axes[1].set_ylabel(\"new deaths\")\n",
    "axes[1].set_xlabel(\"Day after 1/23/2020\")\n",
    "axes[0].set_xlim(0, len(confirmed) - 1)\n",
    "axes[0].set_title(\"COVID-19 cases in the San Francisco Bay Area\")\n",
    "plt.subplots_adjust(hspace=0)"
   ]
  },
  {
   "cell_type": "markdown",
   "metadata": {},
   "source": [
    "We'll clamp to zero to avoid numerical issues due to data corrections. This leads to overestimates of the cumulative counts. A more complex alternative could distribute the negative corrections backwards in time."
   ]
  },
  {
   "cell_type": "code",
   "execution_count": null,
   "metadata": {},
   "outputs": [],
   "source": [
    "confirmed.clamp_(min=0)\n",
    "deaths.clamp_(min=0);"
   ]
  },
  {
   "cell_type": "code",
   "execution_count": null,
   "metadata": {},
   "outputs": [],
   "source": [
    "fig, axes = plt.subplots(2, 1, figsize=(8,6), sharex=True)\n",
    "axes[0].plot(confirmed)\n",
    "axes[1].plot(deaths)\n",
    "axes[0].set_ylabel(\"new cases\")\n",
    "axes[1].set_ylabel(\"new deaths\")\n",
    "axes[1].set_xlabel(\"Day after 1/23/2020\")\n",
    "axes[0].set_xlim(0, len(confirmed) - 1)\n",
    "axes[0].set_title(\"COVID-19 cases in the San Francisco Bay Area\")\n",
    "plt.subplots_adjust(hspace=0)"
   ]
  },
  {
   "cell_type": "markdown",
   "metadata": {},
   "source": [
    "## Creating a regional model\n",
    "\n",
    "To create a realistic model of Bay Area data, we'll combine aspects of a number of simpler models: [OverdispersedSEIRModel](http://docs.pyro.ai/en/latest/contrib.epidemiology.html#overdispersed-seir), [UnknownStartSIRModel](http://docs.pyro.ai/en/latest/contrib.epidemiology.html#unknown-start-sir), and [RegionalSIRModel](http://docs.pyro.ai/en/latest/contrib.epidemiology.html#regional-sir)."
   ]
  },
  {
   "cell_type": "code",
   "execution_count": null,
   "metadata": {},
   "outputs": [],
   "source": [
    "class Model(CompartmentalModel):\n",
    "    def __init__(self, population, coupling, new_cases, deaths,\n",
    "                 incubation_time=4.0,\n",
    "                 recovery_time=14.0,\n",
    "                 external_rate=0.1):\n",
    "        duration, num_regions = deaths.shape\n",
    "        assert new_cases.shape == deaths.shape\n",
    "        assert len(population) == num_regions\n",
    "        assert coupling.shape == (num_regions, num_regions)\n",
    "        assert (0 <= coupling).all()\n",
    "        assert (coupling <= 1).all()\n",
    "        \n",
    "        compartments = (\"S\", \"E\", \"I\")  # R is implicit.\n",
    "        super().__init__(compartments, duration, population, approximate=(\"I\",))\n",
    "    \n",
    "        self.incubation_time = incubation_time\n",
    "        self.recovery_time = recovery_time\n",
    "        self.external_rate = external_rate\n",
    "        self.coupling = coupling\n",
    "        self.new_cases = new_cases\n",
    "        self.deaths = deaths\n",
    "\n",
    "    series = (\"S2E\", \"E2I\", \"I2R\", \"beta\", \"Re\", \"new_cases\", \"deaths\")\n",
    "    full_mass = [(\"R0\", \"rho\", \"mu\", \"od\")]\n",
    "\n",
    "    def global_model(self):\n",
    "        tau_e = self.incubation_time\n",
    "        tau_i = self.recovery_time\n",
    "        R0 = pyro.sample(\"R0\", dist.LogNormal(0., 1.))  # Weak prior.\n",
    "        rho = pyro.sample(\"rho\", dist.Beta(10, 10))  # About 50% response rate.\n",
    "        mu = pyro.sample(\"mu\", dist.Beta(100, 2))  # About 2% mortality rate.\n",
    "        od = pyro.sample(\"od\", dist.Beta(2, 6))\n",
    "        return R0, tau_e, tau_i, rho, mu, od\n",
    "\n",
    "    def initialize(self, params):\n",
    "        # Start with no local infections and base reproductive number.\n",
    "        return {\"S\": self.population,\n",
    "                \"E\": torch.zeros_like(self.population),\n",
    "                \"I\": torch.zeros_like(self.population),\n",
    "                \"beta\": torch.tensor(1.)}\n",
    "\n",
    "    def transition(self, params, state, t):\n",
    "        R0, tau_e, tau_i, rho, mu, od = params\n",
    "\n",
    "        # Assume effective reproductive number Re varies in time,\n",
    "        # but is the same across all regions (say due to synchronized policy).\n",
    "        beta = pyro.sample(\"beta_{}\".format(t),\n",
    "                           dist.LogNormal(state[\"beta\"].log(), 0.1))\n",
    "        Re = pyro.deterministic(\"Re_{}\".format(t), R0 * beta)\n",
    "\n",
    "        # Account for strong intra-region infections, weak inter-region infections, and\n",
    "        # even weaker background infections from external sources. This uses approximate\n",
    "        # (point estimate) counts I_approx for infection from other regions, but uses\n",
    "        # the exact (enumerated) count I for infections from one's own region.\n",
    "        I_external = self.external_rate * tau_i / Re\n",
    "        I_coupled = state[\"I_approx\"] @ self.coupling + I_external\n",
    "        I_coupled = I_coupled + (state[\"I\"] - state[\"I_approx\"]) * self.coupling.diag()\n",
    "        I_coupled = I_coupled.clamp(min=0)  # In case I_approx is negative.\n",
    "        pop_coupled = self.population @ self.coupling\n",
    "        \n",
    "        with self.region_plate:\n",
    "            # Sample flows between compartments.\n",
    "            S2E = pyro.sample(\"S2E_{}\".format(t),\n",
    "                              infection_dist(individual_rate=Re / tau_i,\n",
    "                                             num_susceptible=state[\"S\"],\n",
    "                                             num_infectious=I_coupled,\n",
    "                                             population=self.population,\n",
    "                                             overdispersion=od))\n",
    "            E2I = pyro.sample(\"E2I_{}\".format(t),\n",
    "                              binomial_dist(state[\"E\"], 1 / tau_e, overdispersion=od))\n",
    "            I2R = pyro.sample(\"I2R_{}\".format(t),\n",
    "                              binomial_dist(state[\"I\"], 1 / tau_i, overdispersion=od))\n",
    "\n",
    "            # Update compartments and heterogeneous variables.\n",
    "            state[\"S\"] = state[\"S\"] - S2E\n",
    "            state[\"E\"] = state[\"E\"] + S2E - E2I\n",
    "            state[\"I\"] = state[\"I\"] + E2I - I2R\n",
    "            state[\"beta\"] = beta  # We store the latest beta value in the state dict.\n",
    "\n",
    "            # Condition on observations.\n",
    "            t_is_observed = isinstance(t, slice) or t < self.duration\n",
    "            pyro.sample(\"new_cases_{}\".format(t),\n",
    "                        binomial_dist(S2E, rho, overdispersion=od),\n",
    "                        obs=self.new_cases[t] if t_is_observed else None)\n",
    "            pyro.sample(\"deaths_{}\".format(t),\n",
    "                        binomial_dist(S2E, mu, overdispersion=od),\n",
    "                        obs=self.deaths[t] if t_is_observed else None)"
   ]
  },
  {
   "cell_type": "markdown",
   "metadata": {},
   "source": [
    "We'll also need to specify a coupling matrix. We could be Bayesian about this and possibly use distance or mobility data. For simplicity we'll assume inter-region infection is 1/10 as strong as intra-region infection."
   ]
  },
  {
   "cell_type": "code",
   "execution_count": null,
   "metadata": {},
   "outputs": [],
   "source": [
    "coupling = torch.eye(len(population)).clamp_(min=0.1)\n",
    "model = Model(population, coupling, confirmed, deaths)"
   ]
  },
  {
   "cell_type": "markdown",
   "metadata": {},
   "source": [
    "Now we'll train the model using MCMC."
   ]
  },
  {
   "cell_type": "code",
   "execution_count": null,
   "metadata": {
    "scrolled": true
   },
   "outputs": [],
   "source": [
    "model.fit(num_samples=200, haar_full_mass=7,\n",
    "          heuristic_retries=1,\n",
    "          heuristic_num_particles=1024,\n",
    "          heuristic_ess_threshold=0.1)"
   ]
  },
  {
   "cell_type": "code",
   "execution_count": null,
   "metadata": {},
   "outputs": [],
   "source": [
    "confirmed[:47+1].sum(-1)"
   ]
  },
  {
   "cell_type": "code",
   "execution_count": null,
   "metadata": {},
   "outputs": [],
   "source": []
  }
 ],
 "metadata": {
  "kernelspec": {
   "display_name": "Python 3",
   "language": "python",
   "name": "python3"
  },
  "language_info": {
   "codemirror_mode": {
    "name": "ipython",
    "version": 3
   },
   "file_extension": ".py",
   "mimetype": "text/x-python",
   "name": "python",
   "nbconvert_exporter": "python",
   "pygments_lexer": "ipython3",
   "version": "3.7.7"
  }
 },
 "nbformat": 4,
 "nbformat_minor": 4
}
